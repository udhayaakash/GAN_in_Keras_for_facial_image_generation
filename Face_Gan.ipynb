{
  "nbformat": 4,
  "nbformat_minor": 0,
  "metadata": {
    "colab": {
      "name": "Face_Gan.ipynb",
      "provenance": [],
      "collapsed_sections": []
    },
    "kernelspec": {
      "name": "python3",
      "display_name": "Python 3"
    },
    "accelerator": "GPU"
  },
  "cells": [
    {
      "cell_type": "code",
      "metadata": {
        "id": "EvR6lmDhjAx3",
        "colab_type": "code",
        "colab": {}
      },
      "source": [
        "def hms_string(sec_elapsed):\n",
        "    h = int(sec_elapsed / (60 * 60))\n",
        "    m = int((sec_elapsed % (60 * 60)) / 60)\n",
        "    s = sec_elapsed % 60\n",
        "    return \"{}:{:>02}:{:>05.2f}\".format(h, m, s)"
      ],
      "execution_count": 0,
      "outputs": []
    },
    {
      "cell_type": "code",
      "metadata": {
        "id": "w8vfoOwOje2a",
        "colab_type": "code",
        "outputId": "f7ef17f9-0a8c-42c2-8799-692d9cf6e001",
        "colab": {
          "base_uri": "https://localhost:8080/",
          "height": 50
        }
      },
      "source": [
        "try:\n",
        "    from google.colab import drive\n",
        "    drive.mount('/content/drive', force_remount=True)\n",
        "    COLAB = True\n",
        "    print(\"Note: using Google CoLab\")\n",
        "    %tensorflow_version 2.x\n",
        "except:\n",
        "    print(\"Note: not using Google CoLab\")\n",
        "    COLAB = False"
      ],
      "execution_count": 27,
      "outputs": [
        {
          "output_type": "stream",
          "text": [
            "Mounted at /content/drive\n",
            "Note: using Google CoLab\n"
          ],
          "name": "stdout"
        }
      ]
    },
    {
      "cell_type": "code",
      "metadata": {
        "id": "_cvwVLLzl-Kt",
        "colab_type": "code",
        "colab": {}
      },
      "source": [
        "import tensorflow as tf\n",
        "from tensorflow.keras.layers import Input, Reshape, Dropout, Dense, Flatten, BatchNormalization, Activation, ZeroPadding2D\n",
        "from tensorflow.keras.layers import LeakyReLU\n",
        "from tensorflow.keras.layers import UpSampling2D, Conv2D\n",
        "from tensorflow.keras.models import Sequential, Model, load_model\n",
        "from tensorflow.keras.optimizers import Adam\n",
        "import numpy as np\n",
        "from PIL import Image\n",
        "from tqdm import tqdm\n",
        "import os \n",
        "import time\n",
        "import matplotlib.pyplot as plt"
      ],
      "execution_count": 0,
      "outputs": []
    },
    {
      "cell_type": "code",
      "metadata": {
        "id": "IRl5NoNpjqx4",
        "colab_type": "code",
        "outputId": "a7631cb3-011d-4b1c-b0db-ff08461765f9",
        "colab": {
          "base_uri": "https://localhost:8080/",
          "height": 34
        }
      },
      "source": [
        "# Generation resolution - Must be square \n",
        "# Training data is also scaled to this.\n",
        "# Note GENERATE_RES 4 or higher  will blow Google CoLab's memory and have not\n",
        "# been tested extensivly.\n",
        "GENERATE_RES = 3 # Generation resolution factor (1=32, 2=64, 3=96, 4=128, etc.)\n",
        "GENERATE_SQUARE = 32 * GENERATE_RES # rows/cols (should be square)\n",
        "IMAGE_CHANNELS = 3\n",
        "\n",
        "# Preview image \n",
        "PREVIEW_ROWS = 4\n",
        "PREVIEW_COLS = 7\n",
        "PREVIEW_MARGIN = 16\n",
        "\n",
        "# Size vector to generate images from\n",
        "SEED_SIZE = 100\n",
        "\n",
        "# Configuration\n",
        "DATA_PATH = '/content/drive/My Drive/projects/faces'\n",
        "EPOCHS = 50\n",
        "BATCH_SIZE = 32\n",
        "BUFFER_SIZE = 60000\n",
        "\n",
        "print(f\"Will generate {GENERATE_SQUARE}px square images.\")"
      ],
      "execution_count": 29,
      "outputs": [
        {
          "output_type": "stream",
          "text": [
            "Will generate 96px square images.\n"
          ],
          "name": "stdout"
        }
      ]
    },
    {
      "cell_type": "code",
      "metadata": {
        "id": "jaJbhwuwotfw",
        "colab_type": "code",
        "colab": {
          "base_uri": "https://localhost:8080/",
          "height": 84
        },
        "outputId": "866b8cca-c2ae-44d7-9efd-5282871eecf9"
      },
      "source": [
        "training_binary_path = os.path.join(DATA_PATH,f'training_data_{GENERATE_SQUARE}_{GENERATE_SQUARE}.npy')\n",
        "\n",
        "print(f\"Looking for file: {training_binary_path}\")\n",
        "\n",
        "if not os.path.isfile(training_binary_path):\n",
        "  start = time.time()\n",
        "  print(\"Loading training images...\")\n",
        "\n",
        "  training_data = []\n",
        "  #faces_path = os.path.join(DATA_PATH,'face_images')\n",
        "  faces_path=DATA_PATH\n",
        "  #for filename in tqdm(os.listdir(faces_path)):\n",
        "  for filename in (os.listdir(faces_path)):\n",
        "      path = os.path.join(faces_path,filename)\n",
        "      image = Image.open(path).resize((GENERATE_SQUARE,GENERATE_SQUARE),Image.ANTIALIAS)\n",
        "      training_data.append(np.asarray(image))\n",
        "  training_data = np.reshape(training_data,(-1,GENERATE_SQUARE,GENERATE_SQUARE,IMAGE_CHANNELS))\n",
        "  training_data = training_data.astype(np.float32)\n",
        "  training_data = training_data / 127.5 - 1.\n",
        "\n",
        "\n",
        "  print(\"Saving training image binary...\")\n",
        "  np.save(training_binary_path,training_data)\n",
        "  elapsed = time.time()-start\n",
        "  print (f'Image preprocess time: {hms_string(elapsed)}')\n",
        "else:\n",
        "  print(\"Loading previous training pickle...\")\n",
        "  training_data = np.load(training_binary_path)"
      ],
      "execution_count": 32,
      "outputs": [
        {
          "output_type": "stream",
          "text": [
            "Looking for file: /content/drive/My Drive/projects/faces/training_data_96_96.npy\n",
            "Loading training images...\n",
            "Saving training image binary...\n",
            "Image preprocess time: 1:22:44.26\n"
          ],
          "name": "stdout"
        }
      ]
    },
    {
      "cell_type": "code",
      "metadata": {
        "id": "miCiEvOcwafs",
        "colab_type": "code",
        "colab": {}
      },
      "source": [
        "train_dataset = tf.data.Dataset.from_tensor_slices(training_data).shuffle(BUFFER_SIZE).batch(BATCH_SIZE)"
      ],
      "execution_count": 0,
      "outputs": []
    },
    {
      "cell_type": "code",
      "metadata": {
        "id": "sxEeT3Cbwa8E",
        "colab_type": "code",
        "colab": {}
      },
      "source": [
        "def build_generator(seed_size, channels):\n",
        "    model = Sequential()\n",
        "\n",
        "    model.add(Dense(4*4*256,activation=\"relu\",input_dim=seed_size))\n",
        "    model.add(Reshape((4,4,256)))\n",
        "\n",
        "    model.add(UpSampling2D())\n",
        "    model.add(Conv2D(256,kernel_size=3,padding=\"same\"))\n",
        "    model.add(BatchNormalization(momentum=0.8))\n",
        "    model.add(Activation(\"relu\"))\n",
        "\n",
        "    model.add(UpSampling2D())\n",
        "    model.add(Conv2D(256,kernel_size=3,padding=\"same\"))\n",
        "    model.add(BatchNormalization(momentum=0.8))\n",
        "    model.add(Activation(\"relu\"))\n",
        "   \n",
        "    # Output resolution, additional upsampling\n",
        "    model.add(UpSampling2D())\n",
        "    model.add(Conv2D(128,kernel_size=3,padding=\"same\"))\n",
        "    model.add(BatchNormalization(momentum=0.8))\n",
        "    model.add(Activation(\"relu\"))\n",
        "\n",
        "    if GENERATE_RES>1:\n",
        "      model.add(UpSampling2D(size=(GENERATE_RES,GENERATE_RES)))\n",
        "      model.add(Conv2D(128,kernel_size=3,padding=\"same\"))\n",
        "      model.add(BatchNormalization(momentum=0.8))\n",
        "      model.add(Activation(\"relu\"))\n",
        "\n",
        "    # Final CNN laye\n",
        "    model.add(Conv2D(channels,kernel_size=3,padding=\"same\"))\n",
        "    model.add(Activation(\"tanh\"))\n",
        "\n",
        "    return model\n",
        "\n",
        "\n",
        "def build_discriminator(image_shape):\n",
        "    model = Sequential()\n",
        "\n",
        "    model.add(Conv2D(32, kernel_size=3, strides=2, input_shape=image_shape, padding=\"same\"))\n",
        "    model.add(LeakyReLU(alpha=0.2))\n",
        "\n",
        "    model.add(Dropout(0.25))\n",
        "    model.add(Conv2D(64, kernel_size=3, strides=2, padding=\"same\"))\n",
        "    model.add(ZeroPadding2D(padding=((0,1),(0,1))))\n",
        "    model.add(BatchNormalization(momentum=0.8))\n",
        "    model.add(LeakyReLU(alpha=0.2))\n",
        "\n",
        "    model.add(Dropout(0.25))\n",
        "    model.add(Conv2D(128, kernel_size=3, strides=2, padding=\"same\"))\n",
        "    model.add(BatchNormalization(momentum=0.8))\n",
        "    model.add(LeakyReLU(alpha=0.2))\n",
        "\n",
        "    model.add(Dropout(0.25))\n",
        "    model.add(Conv2D(256, kernel_size=3, strides=1, padding=\"same\"))\n",
        "    model.add(BatchNormalization(momentum=0.8))\n",
        "    model.add(LeakyReLU(alpha=0.2))\n",
        "\n",
        "    model.add(Dropout(0.25))\n",
        "    model.add(Conv2D(512, kernel_size=3, strides=1, padding=\"same\"))\n",
        "    model.add(BatchNormalization(momentum=0.8))\n",
        "    model.add(LeakyReLU(alpha=0.2))\n",
        "\n",
        "    model.add(Dropout(0.25))\n",
        "    model.add(Flatten())\n",
        "    model.add(Dense(1, activation='sigmoid'))\n",
        "\n",
        "    return model\n"
      ],
      "execution_count": 0,
      "outputs": []
    },
    {
      "cell_type": "code",
      "metadata": {
        "id": "OnfFj05rwbL6",
        "colab_type": "code",
        "colab": {}
      },
      "source": [
        "def save_images(cnt,noise):\n",
        "  image_array = np.full(( \n",
        "      PREVIEW_MARGIN + (PREVIEW_ROWS * (GENERATE_SQUARE+PREVIEW_MARGIN)), \n",
        "      PREVIEW_MARGIN + (PREVIEW_COLS * (GENERATE_SQUARE+PREVIEW_MARGIN)), 3), \n",
        "      255, dtype=np.uint8)\n",
        "  \n",
        "  generated_images = generator.predict(noise)\n",
        "\n",
        "  generated_images = 0.5 * generated_images + 0.5\n",
        "\n",
        "  image_count = 0\n",
        "  for row in range(PREVIEW_ROWS):\n",
        "      for col in range(PREVIEW_COLS):\n",
        "        r = row * (GENERATE_SQUARE+16) + PREVIEW_MARGIN\n",
        "        c = col * (GENERATE_SQUARE+16) + PREVIEW_MARGIN\n",
        "        image_array[r:r+GENERATE_SQUARE,c:c+GENERATE_SQUARE] = generated_images[image_count] * 255\n",
        "        image_count += 1\n",
        "\n",
        "          \n",
        "  output_path = os.path.join(DATA_PATH,'output')\n",
        "  if not os.path.exists(output_path):\n",
        "    os.makedirs(output_path)\n",
        "  \n",
        "  filename = os.path.join(output_path,f\"train-{cnt}.png\")\n",
        "  im = Image.fromarray(image_array)\n",
        "  im.save(filename)"
      ],
      "execution_count": 0,
      "outputs": []
    },
    {
      "cell_type": "code",
      "metadata": {
        "id": "oWf73Iptwbxn",
        "colab_type": "code",
        "colab": {
          "base_uri": "https://localhost:8080/",
          "height": 285
        },
        "outputId": "adcf5345-1856-4a4e-f2cd-55de485cd013"
      },
      "source": [
        "generator = build_generator(SEED_SIZE, IMAGE_CHANNELS)\n",
        "\n",
        "noise = tf.random.normal([1, SEED_SIZE])\n",
        "generated_image = generator(noise, training=False)\n",
        "\n",
        "plt.imshow(generated_image[0, :, :, 0])"
      ],
      "execution_count": 36,
      "outputs": [
        {
          "output_type": "execute_result",
          "data": {
            "text/plain": [
              "<matplotlib.image.AxesImage at 0x7ff0500c6860>"
            ]
          },
          "metadata": {
            "tags": []
          },
          "execution_count": 36
        },
        {
          "output_type": "display_data",
          "data": {
            "image/png": "[encoded data removed]",
            "text/plain": [
              "<Figure size 432x288 with 1 Axes>"
            ]
          },
          "metadata": {
            "tags": [],
            "needs_background": "light"
          }
        }
      ]
    },
    {
      "cell_type": "code",
      "metadata": {
        "id": "3f7mcwj3wbJe",
        "colab_type": "code",
        "colab": {
          "base_uri": "https://localhost:8080/",
          "height": 34
        },
        "outputId": "cddfc263-d20c-49a7-ef35-f06c12a45b7c"
      },
      "source": [
        "image_shape = (GENERATE_SQUARE,GENERATE_SQUARE,IMAGE_CHANNELS)\n",
        "\n",
        "discriminator = build_discriminator(image_shape)\n",
        "decision = discriminator(generated_image)\n",
        "print (decision)"
      ],
      "execution_count": 37,
      "outputs": [
        {
          "output_type": "stream",
          "text": [
            "tf.Tensor([[0.500332]], shape=(1, 1), dtype=float32)\n"
          ],
          "name": "stdout"
        }
      ]
    },
    {
      "cell_type": "code",
      "metadata": {
        "id": "26zu_aKEwbHb",
        "colab_type": "code",
        "colab": {}
      },
      "source": [
        "# This method returns a helper function to compute cross entropy loss\n",
        "cross_entropy = tf.keras.losses.BinaryCrossentropy(from_logits=True)\n",
        "\n",
        "def discriminator_loss(real_output, fake_output):\n",
        "    real_loss = cross_entropy(tf.ones_like(real_output), real_output)\n",
        "    fake_loss = cross_entropy(tf.zeros_like(fake_output), fake_output)\n",
        "    total_loss = real_loss + fake_loss\n",
        "    return total_loss\n",
        "\n",
        "def generator_loss(fake_output):\n",
        "    return cross_entropy(tf.ones_like(fake_output), fake_output)"
      ],
      "execution_count": 0,
      "outputs": []
    },
    {
      "cell_type": "code",
      "metadata": {
        "id": "-_OH3d-ywbFh",
        "colab_type": "code",
        "colab": {}
      },
      "source": [
        "generator_optimizer = tf.keras.optimizers.Adam(1.5e-4,0.5)\n",
        "discriminator_optimizer = tf.keras.optimizers.Adam(1.5e-4,0.5)\n"
      ],
      "execution_count": 0,
      "outputs": []
    },
    {
      "cell_type": "code",
      "metadata": {
        "id": "PHhvCYU0wbDK",
        "colab_type": "code",
        "colab": {}
      },
      "source": [
        "# Notice the use of `tf.function`\n",
        "# This annotation causes the function to be \"compiled\".\n",
        "@tf.function\n",
        "def train_step(images):\n",
        "  seed = tf.random.normal([BATCH_SIZE, SEED_SIZE])\n",
        "\n",
        "  with tf.GradientTape() as gen_tape, tf.GradientTape() as disc_tape:\n",
        "    generated_images = generator(seed, training=True)\n",
        "\n",
        "    real_output = discriminator(images, training=True)\n",
        "    fake_output = discriminator(generated_images, training=True)\n",
        "\n",
        "    gen_loss = generator_loss(fake_output)\n",
        "    disc_loss = discriminator_loss(real_output, fake_output)\n",
        "    \n",
        "\n",
        "    gradients_of_generator = gen_tape.gradient(gen_loss, generator.trainable_variables)\n",
        "    gradients_of_discriminator = disc_tape.gradient(disc_loss, discriminator.trainable_variables)\n",
        "\n",
        "    generator_optimizer.apply_gradients(zip(gradients_of_generator, generator.trainable_variables))\n",
        "    discriminator_optimizer.apply_gradients(zip(gradients_of_discriminator, discriminator.trainable_variables))\n",
        "  return gen_loss,disc_loss"
      ],
      "execution_count": 0,
      "outputs": []
    },
    {
      "cell_type": "code",
      "metadata": {
        "id": "VVxkF47ywbAY",
        "colab_type": "code",
        "colab": {}
      },
      "source": [
        "def train(dataset, epochs):\n",
        "  fixed_seed = np.random.normal(0, 1, (PREVIEW_ROWS * PREVIEW_COLS, SEED_SIZE))\n",
        "  start = time.time()\n",
        "\n",
        "  for epoch in range(epochs):\n",
        "    epoch_start = time.time()\n",
        "\n",
        "    gen_loss_list = []\n",
        "    disc_loss_list = []\n",
        "\n",
        "    for image_batch in dataset:\n",
        "      t = train_step(image_batch)\n",
        "      gen_loss_list.append(t[0])\n",
        "      disc_loss_list.append(t[1])\n",
        "\n",
        "    g_loss = sum(gen_loss_list) / len(gen_loss_list)\n",
        "    d_loss = sum(disc_loss_list) / len(disc_loss_list)\n",
        "\n",
        "    epoch_elapsed = time.time()-epoch_start\n",
        "    print (f'Epoch {epoch+1}, gen loss={g_loss},disc loss={d_loss}, {hms_string(epoch_elapsed)}')\n",
        "    save_images(epoch,fixed_seed)\n",
        "\n",
        "  elapsed = time.time()-start\n",
        "  print (f'Training time: {hms_string(elapsed)}')"
      ],
      "execution_count": 0,
      "outputs": []
    },
    {
      "cell_type": "code",
      "metadata": {
        "id": "h1Z3C4Dvxeu2",
        "colab_type": "code",
        "colab": {
          "base_uri": "https://localhost:8080/",
          "height": 874
        },
        "outputId": "32227588-8dfb-4cd0-9fa5-dce8a5da5f26"
      },
      "source": [
        "train(train_dataset, EPOCHS)"
      ],
      "execution_count": 42,
      "outputs": [
        {
          "output_type": "stream",
          "text": [
            "Epoch 1, gen loss=0.6544827818870544,disc loss=1.1904146671295166, 0:00:20.23\n",
            "Epoch 2, gen loss=0.677224338054657,disc loss=1.2137963771820068, 0:00:15.01\n",
            "Epoch 3, gen loss=0.6797805428504944,disc loss=1.2101272344589233, 0:00:14.74\n",
            "Epoch 4, gen loss=0.6771068572998047,disc loss=1.2239220142364502, 0:00:14.75\n",
            "Epoch 5, gen loss=0.6833112239837646,disc loss=1.2071068286895752, 0:00:14.70\n",
            "Epoch 6, gen loss=0.6872009634971619,disc loss=1.1879724264144897, 0:00:14.72\n",
            "Epoch 7, gen loss=0.6872956156730652,disc loss=1.1890180110931396, 0:00:14.70\n",
            "Epoch 8, gen loss=0.6872059106826782,disc loss=1.1898852586746216, 0:00:14.76\n",
            "Epoch 9, gen loss=0.6891300082206726,disc loss=1.1819860935211182, 0:00:14.69\n",
            "Epoch 10, gen loss=0.6882023811340332,disc loss=1.1835964918136597, 0:00:14.73\n",
            "Epoch 11, gen loss=0.6760908365249634,disc loss=1.1218526363372803, 0:00:14.70\n",
            "Epoch 12, gen loss=0.6820191144943237,disc loss=1.0464496612548828, 0:00:14.78\n",
            "Epoch 13, gen loss=0.6921043395996094,disc loss=1.2306971549987793, 0:00:14.70\n",
            "Epoch 14, gen loss=0.6931461691856384,disc loss=1.3862923383712769, 0:00:14.70\n",
            "Epoch 15, gen loss=0.6931461691856384,disc loss=1.3862923383712769, 0:00:14.69\n",
            "Epoch 16, gen loss=0.6931461691856384,disc loss=1.3862923383712769, 0:00:14.70\n",
            "Epoch 17, gen loss=0.6931461691856384,disc loss=1.3862923383712769, 0:00:14.67\n",
            "Epoch 18, gen loss=0.6931461691856384,disc loss=1.3862923383712769, 0:00:14.73\n",
            "Epoch 19, gen loss=0.6931461691856384,disc loss=1.3862923383712769, 0:00:14.70\n",
            "Epoch 20, gen loss=0.6931461691856384,disc loss=1.3862923383712769, 0:00:14.70\n",
            "Epoch 21, gen loss=0.6931461691856384,disc loss=1.3862923383712769, 0:00:14.67\n",
            "Epoch 22, gen loss=0.6931461691856384,disc loss=1.3862923383712769, 0:00:14.73\n",
            "Epoch 23, gen loss=0.6931461691856384,disc loss=1.3862923383712769, 0:00:14.67\n",
            "Epoch 24, gen loss=0.6931461691856384,disc loss=1.3862923383712769, 0:00:14.74\n",
            "Epoch 25, gen loss=0.6931461691856384,disc loss=1.3862923383712769, 0:00:14.68\n",
            "Epoch 26, gen loss=0.6931461691856384,disc loss=1.3862923383712769, 0:00:14.72\n",
            "Epoch 27, gen loss=0.6931461691856384,disc loss=1.3862923383712769, 0:00:14.75\n",
            "Epoch 28, gen loss=0.6931461691856384,disc loss=1.3862923383712769, 0:00:14.72\n",
            "Epoch 29, gen loss=0.6931461691856384,disc loss=1.3862923383712769, 0:00:14.72\n",
            "Epoch 30, gen loss=0.6931461691856384,disc loss=1.3862923383712769, 0:00:14.68\n",
            "Epoch 31, gen loss=0.6931461691856384,disc loss=1.3862923383712769, 0:00:14.66\n",
            "Epoch 32, gen loss=0.6931461691856384,disc loss=1.3862923383712769, 0:00:14.69\n",
            "Epoch 33, gen loss=0.6931461691856384,disc loss=1.3862923383712769, 0:00:14.72\n",
            "Epoch 34, gen loss=0.6931461691856384,disc loss=1.3862923383712769, 0:00:14.73\n",
            "Epoch 35, gen loss=0.6931461691856384,disc loss=1.3862923383712769, 0:00:14.72\n",
            "Epoch 36, gen loss=0.6931461691856384,disc loss=1.3862923383712769, 0:00:14.77\n",
            "Epoch 37, gen loss=0.6931461691856384,disc loss=1.3862923383712769, 0:00:14.73\n",
            "Epoch 38, gen loss=0.6931461691856384,disc loss=1.3862923383712769, 0:00:14.69\n",
            "Epoch 39, gen loss=0.6931461691856384,disc loss=1.3862923383712769, 0:00:14.72\n",
            "Epoch 40, gen loss=0.6931461691856384,disc loss=1.3862923383712769, 0:00:14.69\n",
            "Epoch 41, gen loss=0.6931461691856384,disc loss=1.3862923383712769, 0:00:14.77\n",
            "Epoch 42, gen loss=0.6931461691856384,disc loss=1.3862923383712769, 0:00:14.71\n",
            "Epoch 43, gen loss=0.6931461691856384,disc loss=1.3862923383712769, 0:00:14.72\n",
            "Epoch 44, gen loss=0.6931461691856384,disc loss=1.3862923383712769, 0:00:14.72\n",
            "Epoch 45, gen loss=0.6931461691856384,disc loss=1.3862923383712769, 0:00:14.75\n",
            "Epoch 46, gen loss=0.6931461691856384,disc loss=1.3862923383712769, 0:00:14.72\n",
            "Epoch 47, gen loss=0.6931461691856384,disc loss=1.3862923383712769, 0:00:14.75\n",
            "Epoch 48, gen loss=0.6931461691856384,disc loss=1.3862923383712769, 0:00:14.72\n",
            "Epoch 49, gen loss=0.6931461691856384,disc loss=1.3862923383712769, 0:00:14.75\n",
            "Epoch 50, gen loss=0.6931461691856384,disc loss=1.3862923383712769, 0:00:14.76\n",
            "Training time: 0:12:30.71\n"
          ],
          "name": "stdout"
        }
      ]
    },
    {
      "cell_type": "code",
      "metadata": {
        "id": "VyaY3C0Gxi-l",
        "colab_type": "code",
        "colab": {}
      },
      "source": [
        "generator.save(os.path.join(DATA_PATH,\"face_generator.h5\"))"
      ],
      "execution_count": 0,
      "outputs": []
    },
    {
      "cell_type": "code",
      "metadata": {
        "id": "6FYicBWjWtUV",
        "colab_type": "code",
        "colab": {}
      },
      "source": [
        ""
      ],
      "execution_count": 0,
      "outputs": []
    }
  ]
}